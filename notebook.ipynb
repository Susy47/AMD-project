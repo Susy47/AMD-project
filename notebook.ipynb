{
  "nbformat": 4,
  "nbformat_minor": 0,
  "metadata": {
    "colab": {
      "provenance": [],
      "include_colab_link": true
    },
    "kernelspec": {
      "name": "python3",
      "display_name": "Python 3"
    },
    "language_info": {
      "name": "python"
    }
  },
  "cells": [
    {
      "cell_type": "markdown",
      "metadata": {
        "id": "view-in-github",
        "colab_type": "text"
      },
      "source": [
        "<a href=\"https://colab.research.google.com/github/Susy47/AMD-project/blob/main/notebook.ipynb\" target=\"_parent\"><img src=\"https://colab.research.google.com/assets/colab-badge.svg\" alt=\"Open In Colab\"/></a>"
      ]
    },
    {
      "cell_type": "code",
      "execution_count": 2,
      "metadata": {
        "id": "-kH2Hzj_l_bQ",
        "colab": {
          "base_uri": "https://localhost:8080/"
        },
        "outputId": "d7cb76e8-7c8c-462e-90b9-80178603e56a"
      },
      "outputs": [
        {
          "output_type": "stream",
          "name": "stdout",
          "text": [
            "Dataset URL: https://www.kaggle.com/datasets/mohamedbakhet/amazon-books-reviews\n",
            "License(s): CC0-1.0\n",
            "Downloading amazon-books-reviews.zip to /content\n",
            " 99% 1.05G/1.06G [00:05<00:00, 189MB/s]\n",
            "100% 1.06G/1.06G [00:05<00:00, 204MB/s]\n"
          ]
        }
      ],
      "source": [
        "import os\n",
        "os.environ['KAGGLE_USERNAME'] = \"susyzh\"\n",
        "os.environ['KAGGLE_KEY'] = \"92cf0751c52143a957d384a56f10d6fc\"\n",
        "!kaggle datasets download -d mohamedbakhet/amazon-books-reviews\n"
      ]
    }
  ]
}